{
 "cells": [
  {
   "cell_type": "markdown",
   "metadata": {},
   "source": [
    "# Project Goals"
   ]
  },
  {
   "cell_type": "markdown",
   "metadata": {},
   "source": [
    "***i will create a linear regression model that predicts the outcome for a tennis player based on their playing habits. By analyzing and modeling the Association of Tennis Professionals (ATP) data,\n",
    "i will determine what it takes to be one of the best tennis players in the world***"
   ]
  },
  {
   "cell_type": "markdown",
   "metadata": {},
   "source": [
    "# about the data"
   ]
  },
  {
   "cell_type": "markdown",
   "metadata": {},
   "source": [
    "**The ATP men’s tennis dataset includes a wide array of tennis statistics, which are described below:\n",
    "\n",
    "Identifying Data\n",
    "\n",
    "Player: name of the tennis player\n",
    "    \n",
    "Year: year data was recorded\n",
    "    \n",
    "Service Game Columns (Offensive)\n",
    "\n",
    "Aces: number of serves by the player where the receiver does not touch the ball\n",
    "    \n",
    "DoubleFaults: number of times player missed both first and second serve attempts\n",
    "    \n",
    "FirstServe: % of first-serve attempts made\n",
    "    \n",
    "FirstServePointsWon: % of first-serve attempt points won by the player\n",
    "    \n",
    "SecondServePointsWon: % of second-serve attempt points won by the player\n",
    "    \n",
    "BreakPointsFaced: number of times where the receiver could have won service game of the player\n",
    "    \n",
    "BreakPointsSaved: % of the time the player was able to stop the receiver from winning service game when they had the chance\n",
    "ServiceGamesPlayed: total number of games where the player served\n",
    "    \n",
    "ServiceGamesWon: total number of games where the player served and won\n",
    "    \n",
    "TotalServicePointsWon: % of points in games where the player served that they won\n",
    "    \n",
    "Return Game Columns (Defensive)\n",
    "\n",
    "FirstServeReturnPointsWon: % of opponents first-serve points the player was able to win\n",
    "    \n",
    "SecondServeReturnPointsWon: % of opponents second-serve points the player was able to win\n",
    "    \n",
    "BreakPointsOpportunities: number of times where the player could have won the service game of the opponent\n",
    "BreakPointsConverted: % of the time the player was able to win their opponent’s service game when they had the chance\n",
    "ReturnGamesPlayed: total number of games where the player’s opponent served\n",
    "    \n",
    "ReturnGamesWon: total number of games where the player’s opponent served and the player won\n",
    "    \n",
    "ReturnPointsWon: total number of points where the player’s opponent served and the player won\n",
    "    \n",
    "TotalPointsWon: % of points won by the player\n",
    "\n",
    "Outcomes\n",
    "\n",
    "Wins: number of matches won in a year\n",
    "    \n",
    "Losses: number of matches lost in a year\n",
    "    \n",
    "Winnings: total winnings in USD($) in a year\n",
    "    \n",
    "Ranking: ranking at the end of year**"
   ]
  },
  {
   "cell_type": "code",
   "execution_count": 1,
   "metadata": {
    "collapsed": true
   },
   "outputs": [],
   "source": [
    "#import lib\n",
    "import pandas as pd\n",
    "import numpy as np\n",
    "import matplotlib.pyplot as plt\n",
    "from sklearn.linear_model import LinearRegression\n",
    "from sklearn.model_selection import train_test_split"
   ]
  },
  {
   "cell_type": "code",
   "execution_count": 2,
   "metadata": {
    "collapsed": true
   },
   "outputs": [],
   "source": [
    "#upload the data\n",
    "df=pd.read_csv('C:/Users/amr/Downloads/code_academy _course/tennis_ace_starting/tennis_stats.csv')"
   ]
  },
  {
   "cell_type": "code",
   "execution_count": 3,
   "metadata": {},
   "outputs": [
    {
     "data": {
      "text/html": [
       "<div>\n",
       "<style>\n",
       "    .dataframe thead tr:only-child th {\n",
       "        text-align: right;\n",
       "    }\n",
       "\n",
       "    .dataframe thead th {\n",
       "        text-align: left;\n",
       "    }\n",
       "\n",
       "    .dataframe tbody tr th {\n",
       "        vertical-align: top;\n",
       "    }\n",
       "</style>\n",
       "<table border=\"1\" class=\"dataframe\">\n",
       "  <thead>\n",
       "    <tr style=\"text-align: right;\">\n",
       "      <th></th>\n",
       "      <th>Player</th>\n",
       "      <th>Year</th>\n",
       "      <th>FirstServe</th>\n",
       "      <th>FirstServePointsWon</th>\n",
       "      <th>FirstServeReturnPointsWon</th>\n",
       "      <th>SecondServePointsWon</th>\n",
       "      <th>SecondServeReturnPointsWon</th>\n",
       "      <th>Aces</th>\n",
       "      <th>BreakPointsConverted</th>\n",
       "      <th>BreakPointsFaced</th>\n",
       "      <th>...</th>\n",
       "      <th>ReturnGamesWon</th>\n",
       "      <th>ReturnPointsWon</th>\n",
       "      <th>ServiceGamesPlayed</th>\n",
       "      <th>ServiceGamesWon</th>\n",
       "      <th>TotalPointsWon</th>\n",
       "      <th>TotalServicePointsWon</th>\n",
       "      <th>Wins</th>\n",
       "      <th>Losses</th>\n",
       "      <th>Winnings</th>\n",
       "      <th>Ranking</th>\n",
       "    </tr>\n",
       "  </thead>\n",
       "  <tbody>\n",
       "    <tr>\n",
       "      <th>0</th>\n",
       "      <td>Pedro Sousa</td>\n",
       "      <td>2016</td>\n",
       "      <td>0.88</td>\n",
       "      <td>0.50</td>\n",
       "      <td>0.38</td>\n",
       "      <td>0.50</td>\n",
       "      <td>0.39</td>\n",
       "      <td>0</td>\n",
       "      <td>0.14</td>\n",
       "      <td>7</td>\n",
       "      <td>...</td>\n",
       "      <td>0.11</td>\n",
       "      <td>0.38</td>\n",
       "      <td>8</td>\n",
       "      <td>0.50</td>\n",
       "      <td>0.43</td>\n",
       "      <td>0.50</td>\n",
       "      <td>1</td>\n",
       "      <td>2</td>\n",
       "      <td>39820</td>\n",
       "      <td>119</td>\n",
       "    </tr>\n",
       "    <tr>\n",
       "      <th>1</th>\n",
       "      <td>Roman Safiullin</td>\n",
       "      <td>2017</td>\n",
       "      <td>0.84</td>\n",
       "      <td>0.62</td>\n",
       "      <td>0.26</td>\n",
       "      <td>0.33</td>\n",
       "      <td>0.07</td>\n",
       "      <td>7</td>\n",
       "      <td>0.00</td>\n",
       "      <td>7</td>\n",
       "      <td>...</td>\n",
       "      <td>0.00</td>\n",
       "      <td>0.20</td>\n",
       "      <td>9</td>\n",
       "      <td>0.67</td>\n",
       "      <td>0.41</td>\n",
       "      <td>0.57</td>\n",
       "      <td>0</td>\n",
       "      <td>1</td>\n",
       "      <td>17334</td>\n",
       "      <td>381</td>\n",
       "    </tr>\n",
       "    <tr>\n",
       "      <th>2</th>\n",
       "      <td>Pedro Sousa</td>\n",
       "      <td>2017</td>\n",
       "      <td>0.83</td>\n",
       "      <td>0.60</td>\n",
       "      <td>0.28</td>\n",
       "      <td>0.53</td>\n",
       "      <td>0.44</td>\n",
       "      <td>2</td>\n",
       "      <td>0.38</td>\n",
       "      <td>10</td>\n",
       "      <td>...</td>\n",
       "      <td>0.16</td>\n",
       "      <td>0.34</td>\n",
       "      <td>17</td>\n",
       "      <td>0.65</td>\n",
       "      <td>0.45</td>\n",
       "      <td>0.59</td>\n",
       "      <td>4</td>\n",
       "      <td>1</td>\n",
       "      <td>109827</td>\n",
       "      <td>119</td>\n",
       "    </tr>\n",
       "    <tr>\n",
       "      <th>3</th>\n",
       "      <td>Rogerio Dutra Silva</td>\n",
       "      <td>2010</td>\n",
       "      <td>0.83</td>\n",
       "      <td>0.64</td>\n",
       "      <td>0.34</td>\n",
       "      <td>0.59</td>\n",
       "      <td>0.33</td>\n",
       "      <td>2</td>\n",
       "      <td>0.33</td>\n",
       "      <td>5</td>\n",
       "      <td>...</td>\n",
       "      <td>0.14</td>\n",
       "      <td>0.34</td>\n",
       "      <td>15</td>\n",
       "      <td>0.80</td>\n",
       "      <td>0.49</td>\n",
       "      <td>0.63</td>\n",
       "      <td>0</td>\n",
       "      <td>0</td>\n",
       "      <td>9761</td>\n",
       "      <td>125</td>\n",
       "    </tr>\n",
       "    <tr>\n",
       "      <th>4</th>\n",
       "      <td>Daniel Gimeno-Traver</td>\n",
       "      <td>2017</td>\n",
       "      <td>0.81</td>\n",
       "      <td>0.54</td>\n",
       "      <td>0.00</td>\n",
       "      <td>0.33</td>\n",
       "      <td>0.33</td>\n",
       "      <td>1</td>\n",
       "      <td>0.00</td>\n",
       "      <td>2</td>\n",
       "      <td>...</td>\n",
       "      <td>0.00</td>\n",
       "      <td>0.20</td>\n",
       "      <td>2</td>\n",
       "      <td>0.50</td>\n",
       "      <td>0.35</td>\n",
       "      <td>0.50</td>\n",
       "      <td>0</td>\n",
       "      <td>1</td>\n",
       "      <td>32879</td>\n",
       "      <td>272</td>\n",
       "    </tr>\n",
       "    <tr>\n",
       "      <th>5</th>\n",
       "      <td>Andres Artunedo Martinavarro</td>\n",
       "      <td>2014</td>\n",
       "      <td>0.77</td>\n",
       "      <td>0.67</td>\n",
       "      <td>0.09</td>\n",
       "      <td>0.55</td>\n",
       "      <td>0.40</td>\n",
       "      <td>3</td>\n",
       "      <td>0.50</td>\n",
       "      <td>6</td>\n",
       "      <td>...</td>\n",
       "      <td>0.10</td>\n",
       "      <td>0.26</td>\n",
       "      <td>9</td>\n",
       "      <td>0.67</td>\n",
       "      <td>0.44</td>\n",
       "      <td>0.64</td>\n",
       "      <td>0</td>\n",
       "      <td>1</td>\n",
       "      <td>10434</td>\n",
       "      <td>495</td>\n",
       "    </tr>\n",
       "    <tr>\n",
       "      <th>6</th>\n",
       "      <td>Eduardo Struvay</td>\n",
       "      <td>2014</td>\n",
       "      <td>0.76</td>\n",
       "      <td>0.65</td>\n",
       "      <td>0.31</td>\n",
       "      <td>0.36</td>\n",
       "      <td>0.41</td>\n",
       "      <td>1</td>\n",
       "      <td>0.29</td>\n",
       "      <td>6</td>\n",
       "      <td>...</td>\n",
       "      <td>0.20</td>\n",
       "      <td>0.35</td>\n",
       "      <td>9</td>\n",
       "      <td>0.56</td>\n",
       "      <td>0.45</td>\n",
       "      <td>0.58</td>\n",
       "      <td>0</td>\n",
       "      <td>1</td>\n",
       "      <td>24218</td>\n",
       "      <td>1107</td>\n",
       "    </tr>\n",
       "  </tbody>\n",
       "</table>\n",
       "<p>7 rows × 24 columns</p>\n",
       "</div>"
      ],
      "text/plain": [
       "                         Player  Year  FirstServe  FirstServePointsWon  \\\n",
       "0                   Pedro Sousa  2016        0.88                 0.50   \n",
       "1               Roman Safiullin  2017        0.84                 0.62   \n",
       "2                   Pedro Sousa  2017        0.83                 0.60   \n",
       "3           Rogerio Dutra Silva  2010        0.83                 0.64   \n",
       "4          Daniel Gimeno-Traver  2017        0.81                 0.54   \n",
       "5  Andres Artunedo Martinavarro  2014        0.77                 0.67   \n",
       "6               Eduardo Struvay  2014        0.76                 0.65   \n",
       "\n",
       "   FirstServeReturnPointsWon  SecondServePointsWon  \\\n",
       "0                       0.38                  0.50   \n",
       "1                       0.26                  0.33   \n",
       "2                       0.28                  0.53   \n",
       "3                       0.34                  0.59   \n",
       "4                       0.00                  0.33   \n",
       "5                       0.09                  0.55   \n",
       "6                       0.31                  0.36   \n",
       "\n",
       "   SecondServeReturnPointsWon  Aces  BreakPointsConverted  BreakPointsFaced  \\\n",
       "0                        0.39     0                  0.14                 7   \n",
       "1                        0.07     7                  0.00                 7   \n",
       "2                        0.44     2                  0.38                10   \n",
       "3                        0.33     2                  0.33                 5   \n",
       "4                        0.33     1                  0.00                 2   \n",
       "5                        0.40     3                  0.50                 6   \n",
       "6                        0.41     1                  0.29                 6   \n",
       "\n",
       "    ...     ReturnGamesWon  ReturnPointsWon  ServiceGamesPlayed  \\\n",
       "0   ...               0.11             0.38                   8   \n",
       "1   ...               0.00             0.20                   9   \n",
       "2   ...               0.16             0.34                  17   \n",
       "3   ...               0.14             0.34                  15   \n",
       "4   ...               0.00             0.20                   2   \n",
       "5   ...               0.10             0.26                   9   \n",
       "6   ...               0.20             0.35                   9   \n",
       "\n",
       "   ServiceGamesWon  TotalPointsWon  TotalServicePointsWon  Wins  Losses  \\\n",
       "0             0.50            0.43                   0.50     1       2   \n",
       "1             0.67            0.41                   0.57     0       1   \n",
       "2             0.65            0.45                   0.59     4       1   \n",
       "3             0.80            0.49                   0.63     0       0   \n",
       "4             0.50            0.35                   0.50     0       1   \n",
       "5             0.67            0.44                   0.64     0       1   \n",
       "6             0.56            0.45                   0.58     0       1   \n",
       "\n",
       "   Winnings  Ranking  \n",
       "0     39820      119  \n",
       "1     17334      381  \n",
       "2    109827      119  \n",
       "3      9761      125  \n",
       "4     32879      272  \n",
       "5     10434      495  \n",
       "6     24218     1107  \n",
       "\n",
       "[7 rows x 24 columns]"
      ]
     },
     "execution_count": 3,
     "metadata": {},
     "output_type": "execute_result"
    }
   ],
   "source": [
    "#show the data\n",
    "df.head(7)"
   ]
  },
  {
   "cell_type": "markdown",
   "metadata": {},
   "source": [
    "# Assessing Data"
   ]
  },
  {
   "cell_type": "code",
   "execution_count": 4,
   "metadata": {},
   "outputs": [
    {
     "data": {
      "text/plain": [
       "(1721, 24)"
      ]
     },
     "execution_count": 4,
     "metadata": {},
     "output_type": "execute_result"
    }
   ],
   "source": [
    "df.shape"
   ]
  },
  {
   "cell_type": "code",
   "execution_count": 6,
   "metadata": {},
   "outputs": [
    {
     "name": "stdout",
     "output_type": "stream",
     "text": [
      "<class 'pandas.core.frame.DataFrame'>\n",
      "RangeIndex: 1721 entries, 0 to 1720\n",
      "Data columns (total 24 columns):\n",
      "Player                        1721 non-null object\n",
      "Year                          1721 non-null int64\n",
      "FirstServe                    1721 non-null float64\n",
      "FirstServePointsWon           1721 non-null float64\n",
      "FirstServeReturnPointsWon     1721 non-null float64\n",
      "SecondServePointsWon          1721 non-null float64\n",
      "SecondServeReturnPointsWon    1721 non-null float64\n",
      "Aces                          1721 non-null int64\n",
      "BreakPointsConverted          1721 non-null float64\n",
      "BreakPointsFaced              1721 non-null int64\n",
      "BreakPointsOpportunities      1721 non-null int64\n",
      "BreakPointsSaved              1721 non-null float64\n",
      "DoubleFaults                  1721 non-null int64\n",
      "ReturnGamesPlayed             1721 non-null int64\n",
      "ReturnGamesWon                1721 non-null float64\n",
      "ReturnPointsWon               1721 non-null float64\n",
      "ServiceGamesPlayed            1721 non-null int64\n",
      "ServiceGamesWon               1721 non-null float64\n",
      "TotalPointsWon                1721 non-null float64\n",
      "TotalServicePointsWon         1721 non-null float64\n",
      "Wins                          1721 non-null int64\n",
      "Losses                        1721 non-null int64\n",
      "Winnings                      1721 non-null int64\n",
      "Ranking                       1721 non-null int64\n",
      "dtypes: float64(12), int64(11), object(1)\n",
      "memory usage: 322.8+ KB\n"
     ]
    }
   ],
   "source": [
    "df.info()"
   ]
  },
  {
   "cell_type": "code",
   "execution_count": 8,
   "metadata": {},
   "outputs": [
    {
     "data": {
      "text/plain": [
       "2"
      ]
     },
     "execution_count": 8,
     "metadata": {},
     "output_type": "execute_result"
    }
   ],
   "source": [
    "df.duplicated().sum()"
   ]
  },
  {
   "cell_type": "code",
   "execution_count": 9,
   "metadata": {},
   "outputs": [
    {
     "data": {
      "text/plain": [
       "Player                        0\n",
       "Year                          0\n",
       "FirstServe                    0\n",
       "FirstServePointsWon           0\n",
       "FirstServeReturnPointsWon     0\n",
       "SecondServePointsWon          0\n",
       "SecondServeReturnPointsWon    0\n",
       "Aces                          0\n",
       "BreakPointsConverted          0\n",
       "BreakPointsFaced              0\n",
       "BreakPointsOpportunities      0\n",
       "BreakPointsSaved              0\n",
       "DoubleFaults                  0\n",
       "ReturnGamesPlayed             0\n",
       "ReturnGamesWon                0\n",
       "ReturnPointsWon               0\n",
       "ServiceGamesPlayed            0\n",
       "ServiceGamesWon               0\n",
       "TotalPointsWon                0\n",
       "TotalServicePointsWon         0\n",
       "Wins                          0\n",
       "Losses                        0\n",
       "Winnings                      0\n",
       "Ranking                       0\n",
       "dtype: int64"
      ]
     },
     "execution_count": 9,
     "metadata": {},
     "output_type": "execute_result"
    }
   ],
   "source": [
    "df.isnull().sum()"
   ]
  },
  {
   "cell_type": "code",
   "execution_count": 10,
   "metadata": {},
   "outputs": [
    {
     "data": {
      "text/html": [
       "<div>\n",
       "<style>\n",
       "    .dataframe thead tr:only-child th {\n",
       "        text-align: right;\n",
       "    }\n",
       "\n",
       "    .dataframe thead th {\n",
       "        text-align: left;\n",
       "    }\n",
       "\n",
       "    .dataframe tbody tr th {\n",
       "        vertical-align: top;\n",
       "    }\n",
       "</style>\n",
       "<table border=\"1\" class=\"dataframe\">\n",
       "  <thead>\n",
       "    <tr style=\"text-align: right;\">\n",
       "      <th></th>\n",
       "      <th>Year</th>\n",
       "      <th>FirstServe</th>\n",
       "      <th>FirstServePointsWon</th>\n",
       "      <th>FirstServeReturnPointsWon</th>\n",
       "      <th>SecondServePointsWon</th>\n",
       "      <th>SecondServeReturnPointsWon</th>\n",
       "      <th>Aces</th>\n",
       "      <th>BreakPointsConverted</th>\n",
       "      <th>BreakPointsFaced</th>\n",
       "      <th>BreakPointsOpportunities</th>\n",
       "      <th>...</th>\n",
       "      <th>ReturnGamesWon</th>\n",
       "      <th>ReturnPointsWon</th>\n",
       "      <th>ServiceGamesPlayed</th>\n",
       "      <th>ServiceGamesWon</th>\n",
       "      <th>TotalPointsWon</th>\n",
       "      <th>TotalServicePointsWon</th>\n",
       "      <th>Wins</th>\n",
       "      <th>Losses</th>\n",
       "      <th>Winnings</th>\n",
       "      <th>Ranking</th>\n",
       "    </tr>\n",
       "  </thead>\n",
       "  <tbody>\n",
       "    <tr>\n",
       "      <th>count</th>\n",
       "      <td>1721.000000</td>\n",
       "      <td>1721.000000</td>\n",
       "      <td>1721.000000</td>\n",
       "      <td>1721.000000</td>\n",
       "      <td>1721.000000</td>\n",
       "      <td>1721.000000</td>\n",
       "      <td>1721.000000</td>\n",
       "      <td>1721.000000</td>\n",
       "      <td>1721.000000</td>\n",
       "      <td>1721.000000</td>\n",
       "      <td>...</td>\n",
       "      <td>1721.000000</td>\n",
       "      <td>1721.000000</td>\n",
       "      <td>1721.000000</td>\n",
       "      <td>1721.000000</td>\n",
       "      <td>1721.000000</td>\n",
       "      <td>1721.000000</td>\n",
       "      <td>1721.000000</td>\n",
       "      <td>1721.000000</td>\n",
       "      <td>1.721000e+03</td>\n",
       "      <td>1721.000000</td>\n",
       "    </tr>\n",
       "    <tr>\n",
       "      <th>mean</th>\n",
       "      <td>2013.646717</td>\n",
       "      <td>0.598053</td>\n",
       "      <td>0.680738</td>\n",
       "      <td>0.261673</td>\n",
       "      <td>0.479733</td>\n",
       "      <td>0.466432</td>\n",
       "      <td>97.105171</td>\n",
       "      <td>0.369407</td>\n",
       "      <td>112.003486</td>\n",
       "      <td>102.918071</td>\n",
       "      <td>...</td>\n",
       "      <td>0.173823</td>\n",
       "      <td>0.342208</td>\n",
       "      <td>197.650203</td>\n",
       "      <td>0.715590</td>\n",
       "      <td>0.473155</td>\n",
       "      <td>0.599245</td>\n",
       "      <td>7.876816</td>\n",
       "      <td>9.278908</td>\n",
       "      <td>2.344928e+05</td>\n",
       "      <td>269.610691</td>\n",
       "    </tr>\n",
       "    <tr>\n",
       "      <th>std</th>\n",
       "      <td>2.488018</td>\n",
       "      <td>0.054533</td>\n",
       "      <td>0.070422</td>\n",
       "      <td>0.056639</td>\n",
       "      <td>0.066902</td>\n",
       "      <td>0.068447</td>\n",
       "      <td>137.966077</td>\n",
       "      <td>0.162987</td>\n",
       "      <td>119.247651</td>\n",
       "      <td>122.761670</td>\n",
       "      <td>...</td>\n",
       "      <td>0.080880</td>\n",
       "      <td>0.049369</td>\n",
       "      <td>221.208703</td>\n",
       "      <td>0.123287</td>\n",
       "      <td>0.037139</td>\n",
       "      <td>0.057718</td>\n",
       "      <td>10.183716</td>\n",
       "      <td>8.996450</td>\n",
       "      <td>2.530537e+05</td>\n",
       "      <td>277.341947</td>\n",
       "    </tr>\n",
       "    <tr>\n",
       "      <th>min</th>\n",
       "      <td>2009.000000</td>\n",
       "      <td>0.360000</td>\n",
       "      <td>0.270000</td>\n",
       "      <td>0.000000</td>\n",
       "      <td>0.060000</td>\n",
       "      <td>0.000000</td>\n",
       "      <td>0.000000</td>\n",
       "      <td>0.000000</td>\n",
       "      <td>1.000000</td>\n",
       "      <td>0.000000</td>\n",
       "      <td>...</td>\n",
       "      <td>0.000000</td>\n",
       "      <td>0.000000</td>\n",
       "      <td>0.000000</td>\n",
       "      <td>0.000000</td>\n",
       "      <td>0.220000</td>\n",
       "      <td>0.250000</td>\n",
       "      <td>0.000000</td>\n",
       "      <td>0.000000</td>\n",
       "      <td>1.080000e+02</td>\n",
       "      <td>3.000000</td>\n",
       "    </tr>\n",
       "    <tr>\n",
       "      <th>25%</th>\n",
       "      <td>2012.000000</td>\n",
       "      <td>0.570000</td>\n",
       "      <td>0.650000</td>\n",
       "      <td>0.240000</td>\n",
       "      <td>0.460000</td>\n",
       "      <td>0.440000</td>\n",
       "      <td>7.000000</td>\n",
       "      <td>0.320000</td>\n",
       "      <td>15.000000</td>\n",
       "      <td>9.000000</td>\n",
       "      <td>...</td>\n",
       "      <td>0.130000</td>\n",
       "      <td>0.320000</td>\n",
       "      <td>22.000000</td>\n",
       "      <td>0.670000</td>\n",
       "      <td>0.460000</td>\n",
       "      <td>0.570000</td>\n",
       "      <td>0.000000</td>\n",
       "      <td>2.000000</td>\n",
       "      <td>4.931100e+04</td>\n",
       "      <td>83.000000</td>\n",
       "    </tr>\n",
       "    <tr>\n",
       "      <th>50%</th>\n",
       "      <td>2014.000000</td>\n",
       "      <td>0.600000</td>\n",
       "      <td>0.690000</td>\n",
       "      <td>0.270000</td>\n",
       "      <td>0.490000</td>\n",
       "      <td>0.480000</td>\n",
       "      <td>34.000000</td>\n",
       "      <td>0.380000</td>\n",
       "      <td>55.000000</td>\n",
       "      <td>41.000000</td>\n",
       "      <td>...</td>\n",
       "      <td>0.180000</td>\n",
       "      <td>0.350000</td>\n",
       "      <td>86.000000</td>\n",
       "      <td>0.750000</td>\n",
       "      <td>0.480000</td>\n",
       "      <td>0.610000</td>\n",
       "      <td>3.000000</td>\n",
       "      <td>5.000000</td>\n",
       "      <td>1.252120e+05</td>\n",
       "      <td>166.000000</td>\n",
       "    </tr>\n",
       "    <tr>\n",
       "      <th>75%</th>\n",
       "      <td>2016.000000</td>\n",
       "      <td>0.630000</td>\n",
       "      <td>0.720000</td>\n",
       "      <td>0.290000</td>\n",
       "      <td>0.520000</td>\n",
       "      <td>0.500000</td>\n",
       "      <td>140.000000</td>\n",
       "      <td>0.430000</td>\n",
       "      <td>201.000000</td>\n",
       "      <td>172.000000</td>\n",
       "      <td>...</td>\n",
       "      <td>0.220000</td>\n",
       "      <td>0.370000</td>\n",
       "      <td>348.000000</td>\n",
       "      <td>0.790000</td>\n",
       "      <td>0.500000</td>\n",
       "      <td>0.630000</td>\n",
       "      <td>13.000000</td>\n",
       "      <td>17.000000</td>\n",
       "      <td>3.500750e+05</td>\n",
       "      <td>333.000000</td>\n",
       "    </tr>\n",
       "    <tr>\n",
       "      <th>max</th>\n",
       "      <td>2017.000000</td>\n",
       "      <td>0.880000</td>\n",
       "      <td>0.890000</td>\n",
       "      <td>0.480000</td>\n",
       "      <td>0.920000</td>\n",
       "      <td>0.750000</td>\n",
       "      <td>1185.000000</td>\n",
       "      <td>1.000000</td>\n",
       "      <td>507.000000</td>\n",
       "      <td>573.000000</td>\n",
       "      <td>...</td>\n",
       "      <td>0.560000</td>\n",
       "      <td>0.510000</td>\n",
       "      <td>916.000000</td>\n",
       "      <td>1.000000</td>\n",
       "      <td>0.820000</td>\n",
       "      <td>0.820000</td>\n",
       "      <td>48.000000</td>\n",
       "      <td>36.000000</td>\n",
       "      <td>1.074562e+06</td>\n",
       "      <td>1443.000000</td>\n",
       "    </tr>\n",
       "  </tbody>\n",
       "</table>\n",
       "<p>8 rows × 23 columns</p>\n",
       "</div>"
      ],
      "text/plain": [
       "              Year   FirstServe  FirstServePointsWon  \\\n",
       "count  1721.000000  1721.000000          1721.000000   \n",
       "mean   2013.646717     0.598053             0.680738   \n",
       "std       2.488018     0.054533             0.070422   \n",
       "min    2009.000000     0.360000             0.270000   \n",
       "25%    2012.000000     0.570000             0.650000   \n",
       "50%    2014.000000     0.600000             0.690000   \n",
       "75%    2016.000000     0.630000             0.720000   \n",
       "max    2017.000000     0.880000             0.890000   \n",
       "\n",
       "       FirstServeReturnPointsWon  SecondServePointsWon  \\\n",
       "count                1721.000000           1721.000000   \n",
       "mean                    0.261673              0.479733   \n",
       "std                     0.056639              0.066902   \n",
       "min                     0.000000              0.060000   \n",
       "25%                     0.240000              0.460000   \n",
       "50%                     0.270000              0.490000   \n",
       "75%                     0.290000              0.520000   \n",
       "max                     0.480000              0.920000   \n",
       "\n",
       "       SecondServeReturnPointsWon         Aces  BreakPointsConverted  \\\n",
       "count                 1721.000000  1721.000000           1721.000000   \n",
       "mean                     0.466432    97.105171              0.369407   \n",
       "std                      0.068447   137.966077              0.162987   \n",
       "min                      0.000000     0.000000              0.000000   \n",
       "25%                      0.440000     7.000000              0.320000   \n",
       "50%                      0.480000    34.000000              0.380000   \n",
       "75%                      0.500000   140.000000              0.430000   \n",
       "max                      0.750000  1185.000000              1.000000   \n",
       "\n",
       "       BreakPointsFaced  BreakPointsOpportunities     ...       \\\n",
       "count       1721.000000               1721.000000     ...        \n",
       "mean         112.003486                102.918071     ...        \n",
       "std          119.247651                122.761670     ...        \n",
       "min            1.000000                  0.000000     ...        \n",
       "25%           15.000000                  9.000000     ...        \n",
       "50%           55.000000                 41.000000     ...        \n",
       "75%          201.000000                172.000000     ...        \n",
       "max          507.000000                573.000000     ...        \n",
       "\n",
       "       ReturnGamesWon  ReturnPointsWon  ServiceGamesPlayed  ServiceGamesWon  \\\n",
       "count     1721.000000      1721.000000         1721.000000      1721.000000   \n",
       "mean         0.173823         0.342208          197.650203         0.715590   \n",
       "std          0.080880         0.049369          221.208703         0.123287   \n",
       "min          0.000000         0.000000            0.000000         0.000000   \n",
       "25%          0.130000         0.320000           22.000000         0.670000   \n",
       "50%          0.180000         0.350000           86.000000         0.750000   \n",
       "75%          0.220000         0.370000          348.000000         0.790000   \n",
       "max          0.560000         0.510000          916.000000         1.000000   \n",
       "\n",
       "       TotalPointsWon  TotalServicePointsWon         Wins       Losses  \\\n",
       "count     1721.000000            1721.000000  1721.000000  1721.000000   \n",
       "mean         0.473155               0.599245     7.876816     9.278908   \n",
       "std          0.037139               0.057718    10.183716     8.996450   \n",
       "min          0.220000               0.250000     0.000000     0.000000   \n",
       "25%          0.460000               0.570000     0.000000     2.000000   \n",
       "50%          0.480000               0.610000     3.000000     5.000000   \n",
       "75%          0.500000               0.630000    13.000000    17.000000   \n",
       "max          0.820000               0.820000    48.000000    36.000000   \n",
       "\n",
       "           Winnings      Ranking  \n",
       "count  1.721000e+03  1721.000000  \n",
       "mean   2.344928e+05   269.610691  \n",
       "std    2.530537e+05   277.341947  \n",
       "min    1.080000e+02     3.000000  \n",
       "25%    4.931100e+04    83.000000  \n",
       "50%    1.252120e+05   166.000000  \n",
       "75%    3.500750e+05   333.000000  \n",
       "max    1.074562e+06  1443.000000  \n",
       "\n",
       "[8 rows x 23 columns]"
      ]
     },
     "execution_count": 10,
     "metadata": {},
     "output_type": "execute_result"
    }
   ],
   "source": [
    "df.describe()"
   ]
  },
  {
   "cell_type": "markdown",
   "metadata": {},
   "source": [
    "# exploratory analysis"
   ]
  },
  {
   "cell_type": "markdown",
   "metadata": {},
   "source": [
    "**Aces && Wins**"
   ]
  },
  {
   "cell_type": "code",
   "execution_count": 16,
   "metadata": {},
   "outputs": [
    {
     "data": {
      "image/png": "[encoded data removed]",
      "text/plain": [
       "<matplotlib.figure.Figure at 0x17717ade278>"
      ]
     },
     "metadata": {},
     "output_type": "display_data"
    }
   ],
   "source": [
    "#Aces && Wins\n",
    "plt.scatter(df['Aces'],df['Wins'])\n",
    "plt.xlabel('Aces')\n",
    "plt.ylabel('Wins')\n",
    "plt.title('relationship between the Aces feature and the Wins')\n",
    "plt.show()"
   ]
  },
  {
   "cell_type": "markdown",
   "metadata": {},
   "source": [
    "**BreakPointsOpportunities && Winnings**"
   ]
  },
  {
   "cell_type": "code",
   "execution_count": 17,
   "metadata": {},
   "outputs": [
    {
     "data": {
      "image/png": "[encoded data removed]",
      "text/plain": [
       "<matplotlib.figure.Figure at 0x17717a7b390>"
      ]
     },
     "metadata": {},
     "output_type": "display_data"
    }
   ],
   "source": [
    "plt.scatter(df['BreakPointsOpportunities'],df['Winnings'])\n",
    "plt.xlabel('BreakPointsOpportunities')\n",
    "plt.ylabel('Winnings')\n",
    "plt.title('relationship between the BreakPointsOpportunities feature and the Winnings')\n",
    "plt.show()"
   ]
  },
  {
   "cell_type": "markdown",
   "metadata": {},
   "source": [
    "**ServiceGamesWon && Winnings**"
   ]
  },
  {
   "cell_type": "code",
   "execution_count": 18,
   "metadata": {},
   "outputs": [
    {
     "data": {
      "image/png": "[encoded data removed]",
      "text/plain": [
       "<matplotlib.figure.Figure at 0x17717d78ba8>"
      ]
     },
     "metadata": {},
     "output_type": "display_data"
    }
   ],
   "source": [
    "plt.scatter(df['ServiceGamesWon'],df['Winnings'])\n",
    "plt.xlabel('ServiceGamesWon')\n",
    "plt.ylabel('Winnings')\n",
    "plt.title('relationship between the ServiceGamesWon feature and the Winnings')\n",
    "plt.show()"
   ]
  },
  {
   "cell_type": "markdown",
   "metadata": {},
   "source": [
    "# build a single feature linear regression model on the data."
   ]
  },
  {
   "cell_type": "markdown",
   "metadata": {},
   "source": [
    "**i used 'FirstServeReturnPointsWon' as our feature and Winnings as our outcome.**"
   ]
  },
  {
   "cell_type": "code",
   "execution_count": 28,
   "metadata": {},
   "outputs": [],
   "source": [
    "#split the data\n",
    "features=df[['FirstServeReturnPointsWon']]\n",
    "outcomes=df[['Winnings']]"
   ]
  },
  {
   "cell_type": "code",
   "execution_count": 29,
   "metadata": {
    "collapsed": true
   },
   "outputs": [],
   "source": [
    "#split the data into training and testing\n",
    "features_train,features_test,outcomes_train,outcomes_test=train_test_split(features,outcomes,train_size=0.8,test_size=0.2)"
   ]
  },
  {
   "cell_type": "code",
   "execution_count": 30,
   "metadata": {},
   "outputs": [
    {
     "data": {
      "text/plain": [
       "LinearRegression(copy_X=True, fit_intercept=True, n_jobs=1, normalize=False)"
      ]
     },
     "execution_count": 30,
     "metadata": {},
     "output_type": "execute_result"
    }
   ],
   "source": [
    "#created a linear regression model \n",
    "mlr=LinearRegression()\n",
    "mlr.fit(features_train,outcomes_train)"
   ]
  },
  {
   "cell_type": "markdown",
   "metadata": {},
   "source": [
    "** predicted outcome based on our model**"
   ]
  },
  {
   "cell_type": "code",
   "execution_count": 31,
   "metadata": {
    "collapsed": true
   },
   "outputs": [],
   "source": [
    "outcome_predict=mlr.predict(features_test)"
   ]
  },
  {
   "cell_type": "code",
   "execution_count": 32,
   "metadata": {},
   "outputs": [
    {
     "data": {
      "image/png": "[encoded data removed]",
      "text/plain": [
       "<matplotlib.figure.Figure at 0x17717c46080>"
      ]
     },
     "metadata": {},
     "output_type": "display_data"
    }
   ],
   "source": [
    "plt.scatter(outcome_test,outcome_predict,alpha=0.4)\n",
    "plt.show()"
   ]
  },
  {
   "cell_type": "markdown",
   "metadata": {},
   "source": [
    "# Create a  linear regression models that use multiple features to predict yearly earnings."
   ]
  },
  {
   "cell_type": "code",
   "execution_count": 33,
   "metadata": {
    "collapsed": true
   },
   "outputs": [],
   "source": [
    "two_feature=df[['BreakPointsOpportunities','FirstServeReturnPointsWon']]\n",
    "new_outcom=df[['Winnings']]"
   ]
  },
  {
   "cell_type": "code",
   "execution_count": 34,
   "metadata": {
    "collapsed": true
   },
   "outputs": [],
   "source": [
    "two_feature_train,two_feature_test,new_outcom_train,new_outcom_test=train_test_split(two_feature,new_outcom,train_size=0.8)"
   ]
  },
  {
   "cell_type": "code",
   "execution_count": 35,
   "metadata": {},
   "outputs": [
    {
     "data": {
      "text/plain": [
       "LinearRegression(copy_X=True, fit_intercept=True, n_jobs=1, normalize=False)"
      ]
     },
     "execution_count": 35,
     "metadata": {},
     "output_type": "execute_result"
    }
   ],
   "source": [
    "model=LinearRegression()\n",
    "model.fit(two_feature_train,new_outcom_train)"
   ]
  },
  {
   "cell_type": "code",
   "execution_count": 36,
   "metadata": {
    "collapsed": true
   },
   "outputs": [],
   "source": [
    "new_outcom_predict=model.predict(two_feature_test)"
   ]
  },
  {
   "cell_type": "code",
   "execution_count": 37,
   "metadata": {},
   "outputs": [
    {
     "data": {
      "image/png": "[encoded data removed]",
      "text/plain": [
       "<matplotlib.figure.Figure at 0x17717db7588>"
      ]
     },
     "metadata": {},
     "output_type": "display_data"
    }
   ],
   "source": [
    "plt.scatter(new_outcom_test,new_outcom_predict)\n",
    "plt.show()"
   ]
  },
  {
   "cell_type": "markdown",
   "metadata": {},
   "source": [
    "# Create a  linear regression models that use multiple features to predict yearly earnings"
   ]
  },
  {
   "cell_type": "code",
   "execution_count": 39,
   "metadata": {},
   "outputs": [],
   "source": [
    "multi_features = df[['FirstServe','FirstServePointsWon','FirstServeReturnPointsWon',\n",
    "'SecondServePointsWon','SecondServeReturnPointsWon','Aces',\n",
    "'BreakPointsConverted','BreakPointsFaced','BreakPointsOpportunities',\n",
    "'BreakPointsSaved','DoubleFaults','ReturnGamesPlayed','ReturnGamesWon',\n",
    "'ReturnPointsWon','ServiceGamesPlayed','ServiceGamesWon','TotalPointsWon',\n",
    "'TotalServicePointsWon']]\n",
    "newest_outcome = df[['Winnings']]"
   ]
  },
  {
   "cell_type": "code",
   "execution_count": 40,
   "metadata": {
    "collapsed": true
   },
   "outputs": [],
   "source": [
    "multi_features_train,multi_features_test,newest_outcome_train,newest_outcome_test=train_test_split(multi_features,newest_outcome,train_size=0.8)"
   ]
  },
  {
   "cell_type": "code",
   "execution_count": 41,
   "metadata": {},
   "outputs": [
    {
     "data": {
      "text/plain": [
       "LinearRegression(copy_X=True, fit_intercept=True, n_jobs=1, normalize=False)"
      ]
     },
     "execution_count": 41,
     "metadata": {},
     "output_type": "execute_result"
    }
   ],
   "source": [
    "model_3=LinearRegression()\n",
    "model_3.fit(multi_features_train,newest_outcome_train)"
   ]
  },
  {
   "cell_type": "code",
   "execution_count": 42,
   "metadata": {
    "collapsed": true
   },
   "outputs": [],
   "source": [
    "newest_outcome_predict=model_3.predict(multi_features_test)"
   ]
  },
  {
   "cell_type": "code",
   "execution_count": 43,
   "metadata": {},
   "outputs": [
    {
     "data": {
      "image/png": "[encoded data removed]",
      "text/plain": [
       "<matplotlib.figure.Figure at 0x17718162160>"
      ]
     },
     "metadata": {},
     "output_type": "display_data"
    }
   ],
   "source": [
    "plt.scatter(newest_outcome_test,newest_outcome_predict)\n",
    "plt.show()"
   ]
  }
 ],
 "metadata": {
  "kernelspec": {
   "display_name": "Python 3",
   "language": "python",
   "name": "python3"
  },
  "language_info": {
   "codemirror_mode": {
    "name": "ipython",
    "version": 3
   },
   "file_extension": ".py",
   "mimetype": "text/x-python",
   "name": "python",
   "nbconvert_exporter": "python",
   "pygments_lexer": "ipython3",
   "version": "3.6.1"
  }
 },
 "nbformat": 4,
 "nbformat_minor": 2
}
